{
  "nbformat": 4,
  "nbformat_minor": 0,
  "metadata": {
    "colab": {
      "provenance": [],
      "mount_file_id": "1CJ6lgupXt5LHPPqVEZhDgBhgMZ4lZN7L",
      "authorship_tag": "ABX9TyPXtRFwmdKRKRFFt4+lX0r8",
      "include_colab_link": true
    },
    "kernelspec": {
      "name": "python3",
      "display_name": "Python 3"
    },
    "language_info": {
      "name": "python"
    }
  },
  "cells": [
    {
      "cell_type": "markdown",
      "metadata": {
        "id": "view-in-github",
        "colab_type": "text"
      },
      "source": [
        "<a href=\"https://colab.research.google.com/github/ahmadmwali/Udacity-AI-with-Python-NanoDegree/blob/main/Matplotlib/Matplotlib_1.ipynb\" target=\"_parent\"><img src=\"https://colab.research.google.com/assets/colab-badge.svg\" alt=\"Open In Colab\"/></a>"
      ]
    },
    {
      "cell_type": "code",
      "execution_count": null,
      "metadata": {
        "colab": {
          "base_uri": "https://localhost:8080/",
          "height": 381
        },
        "id": "hIcI_bXCv3um",
        "outputId": "d95b7a38-6518-46d3-9b11-c95056434f39"
      },
      "outputs": [
        {
          "output_type": "stream",
          "name": "stdout",
          "text": [
            "(807, 14)\n"
          ]
        },
        {
          "output_type": "execute_result",
          "data": {
            "text/plain": [
              "   id     species  generation_id  height  weight  base_experience type_1  \\\n",
              "0   1   bulbasaur              1     0.7     6.9               64  grass   \n",
              "1   2     ivysaur              1     1.0    13.0              142  grass   \n",
              "2   3    venusaur              1     2.0   100.0              236  grass   \n",
              "3   4  charmander              1     0.6     8.5               62   fire   \n",
              "4   5  charmeleon              1     1.1    19.0              142   fire   \n",
              "5   6   charizard              1     1.7    90.5              240   fire   \n",
              "6   7    squirtle              1     0.5     9.0               63  water   \n",
              "7   8   wartortle              1     1.0    22.5              142  water   \n",
              "8   9   blastoise              1     1.6    85.5              239  water   \n",
              "9  10    caterpie              1     0.3     2.9               39    bug   \n",
              "\n",
              "   type_2  hp  attack  defense  speed  special-attack  special-defense  \n",
              "0  poison  45      49       49     45              65               65  \n",
              "1  poison  60      62       63     60              80               80  \n",
              "2  poison  80      82       83     80             100              100  \n",
              "3     NaN  39      52       43     65              60               50  \n",
              "4     NaN  58      64       58     80              80               65  \n",
              "5  flying  78      84       78    100             109               85  \n",
              "6     NaN  44      48       65     43              50               64  \n",
              "7     NaN  59      63       80     58              65               80  \n",
              "8     NaN  79      83      100     78              85              105  \n",
              "9     NaN  45      30       35     45              20               20  "
            ],
            "text/html": [
              "\n",
              "  <div id=\"df-b5a0f6ad-de67-4aca-8a71-92ccee80ecf2\">\n",
              "    <div class=\"colab-df-container\">\n",
              "      <div>\n",
              "<style scoped>\n",
              "    .dataframe tbody tr th:only-of-type {\n",
              "        vertical-align: middle;\n",
              "    }\n",
              "\n",
              "    .dataframe tbody tr th {\n",
              "        vertical-align: top;\n",
              "    }\n",
              "\n",
              "    .dataframe thead th {\n",
              "        text-align: right;\n",
              "    }\n",
              "</style>\n",
              "<table border=\"1\" class=\"dataframe\">\n",
              "  <thead>\n",
              "    <tr style=\"text-align: right;\">\n",
              "      <th></th>\n",
              "      <th>id</th>\n",
              "      <th>species</th>\n",
              "      <th>generation_id</th>\n",
              "      <th>height</th>\n",
              "      <th>weight</th>\n",
              "      <th>base_experience</th>\n",
              "      <th>type_1</th>\n",
              "      <th>type_2</th>\n",
              "      <th>hp</th>\n",
              "      <th>attack</th>\n",
              "      <th>defense</th>\n",
              "      <th>speed</th>\n",
              "      <th>special-attack</th>\n",
              "      <th>special-defense</th>\n",
              "    </tr>\n",
              "  </thead>\n",
              "  <tbody>\n",
              "    <tr>\n",
              "      <th>0</th>\n",
              "      <td>1</td>\n",
              "      <td>bulbasaur</td>\n",
              "      <td>1</td>\n",
              "      <td>0.7</td>\n",
              "      <td>6.9</td>\n",
              "      <td>64</td>\n",
              "      <td>grass</td>\n",
              "      <td>poison</td>\n",
              "      <td>45</td>\n",
              "      <td>49</td>\n",
              "      <td>49</td>\n",
              "      <td>45</td>\n",
              "      <td>65</td>\n",
              "      <td>65</td>\n",
              "    </tr>\n",
              "    <tr>\n",
              "      <th>1</th>\n",
              "      <td>2</td>\n",
              "      <td>ivysaur</td>\n",
              "      <td>1</td>\n",
              "      <td>1.0</td>\n",
              "      <td>13.0</td>\n",
              "      <td>142</td>\n",
              "      <td>grass</td>\n",
              "      <td>poison</td>\n",
              "      <td>60</td>\n",
              "      <td>62</td>\n",
              "      <td>63</td>\n",
              "      <td>60</td>\n",
              "      <td>80</td>\n",
              "      <td>80</td>\n",
              "    </tr>\n",
              "    <tr>\n",
              "      <th>2</th>\n",
              "      <td>3</td>\n",
              "      <td>venusaur</td>\n",
              "      <td>1</td>\n",
              "      <td>2.0</td>\n",
              "      <td>100.0</td>\n",
              "      <td>236</td>\n",
              "      <td>grass</td>\n",
              "      <td>poison</td>\n",
              "      <td>80</td>\n",
              "      <td>82</td>\n",
              "      <td>83</td>\n",
              "      <td>80</td>\n",
              "      <td>100</td>\n",
              "      <td>100</td>\n",
              "    </tr>\n",
              "    <tr>\n",
              "      <th>3</th>\n",
              "      <td>4</td>\n",
              "      <td>charmander</td>\n",
              "      <td>1</td>\n",
              "      <td>0.6</td>\n",
              "      <td>8.5</td>\n",
              "      <td>62</td>\n",
              "      <td>fire</td>\n",
              "      <td>NaN</td>\n",
              "      <td>39</td>\n",
              "      <td>52</td>\n",
              "      <td>43</td>\n",
              "      <td>65</td>\n",
              "      <td>60</td>\n",
              "      <td>50</td>\n",
              "    </tr>\n",
              "    <tr>\n",
              "      <th>4</th>\n",
              "      <td>5</td>\n",
              "      <td>charmeleon</td>\n",
              "      <td>1</td>\n",
              "      <td>1.1</td>\n",
              "      <td>19.0</td>\n",
              "      <td>142</td>\n",
              "      <td>fire</td>\n",
              "      <td>NaN</td>\n",
              "      <td>58</td>\n",
              "      <td>64</td>\n",
              "      <td>58</td>\n",
              "      <td>80</td>\n",
              "      <td>80</td>\n",
              "      <td>65</td>\n",
              "    </tr>\n",
              "    <tr>\n",
              "      <th>5</th>\n",
              "      <td>6</td>\n",
              "      <td>charizard</td>\n",
              "      <td>1</td>\n",
              "      <td>1.7</td>\n",
              "      <td>90.5</td>\n",
              "      <td>240</td>\n",
              "      <td>fire</td>\n",
              "      <td>flying</td>\n",
              "      <td>78</td>\n",
              "      <td>84</td>\n",
              "      <td>78</td>\n",
              "      <td>100</td>\n",
              "      <td>109</td>\n",
              "      <td>85</td>\n",
              "    </tr>\n",
              "    <tr>\n",
              "      <th>6</th>\n",
              "      <td>7</td>\n",
              "      <td>squirtle</td>\n",
              "      <td>1</td>\n",
              "      <td>0.5</td>\n",
              "      <td>9.0</td>\n",
              "      <td>63</td>\n",
              "      <td>water</td>\n",
              "      <td>NaN</td>\n",
              "      <td>44</td>\n",
              "      <td>48</td>\n",
              "      <td>65</td>\n",
              "      <td>43</td>\n",
              "      <td>50</td>\n",
              "      <td>64</td>\n",
              "    </tr>\n",
              "    <tr>\n",
              "      <th>7</th>\n",
              "      <td>8</td>\n",
              "      <td>wartortle</td>\n",
              "      <td>1</td>\n",
              "      <td>1.0</td>\n",
              "      <td>22.5</td>\n",
              "      <td>142</td>\n",
              "      <td>water</td>\n",
              "      <td>NaN</td>\n",
              "      <td>59</td>\n",
              "      <td>63</td>\n",
              "      <td>80</td>\n",
              "      <td>58</td>\n",
              "      <td>65</td>\n",
              "      <td>80</td>\n",
              "    </tr>\n",
              "    <tr>\n",
              "      <th>8</th>\n",
              "      <td>9</td>\n",
              "      <td>blastoise</td>\n",
              "      <td>1</td>\n",
              "      <td>1.6</td>\n",
              "      <td>85.5</td>\n",
              "      <td>239</td>\n",
              "      <td>water</td>\n",
              "      <td>NaN</td>\n",
              "      <td>79</td>\n",
              "      <td>83</td>\n",
              "      <td>100</td>\n",
              "      <td>78</td>\n",
              "      <td>85</td>\n",
              "      <td>105</td>\n",
              "    </tr>\n",
              "    <tr>\n",
              "      <th>9</th>\n",
              "      <td>10</td>\n",
              "      <td>caterpie</td>\n",
              "      <td>1</td>\n",
              "      <td>0.3</td>\n",
              "      <td>2.9</td>\n",
              "      <td>39</td>\n",
              "      <td>bug</td>\n",
              "      <td>NaN</td>\n",
              "      <td>45</td>\n",
              "      <td>30</td>\n",
              "      <td>35</td>\n",
              "      <td>45</td>\n",
              "      <td>20</td>\n",
              "      <td>20</td>\n",
              "    </tr>\n",
              "  </tbody>\n",
              "</table>\n",
              "</div>\n",
              "      <button class=\"colab-df-convert\" onclick=\"convertToInteractive('df-b5a0f6ad-de67-4aca-8a71-92ccee80ecf2')\"\n",
              "              title=\"Convert this dataframe to an interactive table.\"\n",
              "              style=\"display:none;\">\n",
              "        \n",
              "  <svg xmlns=\"http://www.w3.org/2000/svg\" height=\"24px\"viewBox=\"0 0 24 24\"\n",
              "       width=\"24px\">\n",
              "    <path d=\"M0 0h24v24H0V0z\" fill=\"none\"/>\n",
              "    <path d=\"M18.56 5.44l.94 2.06.94-2.06 2.06-.94-2.06-.94-.94-2.06-.94 2.06-2.06.94zm-11 1L8.5 8.5l.94-2.06 2.06-.94-2.06-.94L8.5 2.5l-.94 2.06-2.06.94zm10 10l.94 2.06.94-2.06 2.06-.94-2.06-.94-.94-2.06-.94 2.06-2.06.94z\"/><path d=\"M17.41 7.96l-1.37-1.37c-.4-.4-.92-.59-1.43-.59-.52 0-1.04.2-1.43.59L10.3 9.45l-7.72 7.72c-.78.78-.78 2.05 0 2.83L4 21.41c.39.39.9.59 1.41.59.51 0 1.02-.2 1.41-.59l7.78-7.78 2.81-2.81c.8-.78.8-2.07 0-2.86zM5.41 20L4 18.59l7.72-7.72 1.47 1.35L5.41 20z\"/>\n",
              "  </svg>\n",
              "      </button>\n",
              "      \n",
              "  <style>\n",
              "    .colab-df-container {\n",
              "      display:flex;\n",
              "      flex-wrap:wrap;\n",
              "      gap: 12px;\n",
              "    }\n",
              "\n",
              "    .colab-df-convert {\n",
              "      background-color: #E8F0FE;\n",
              "      border: none;\n",
              "      border-radius: 50%;\n",
              "      cursor: pointer;\n",
              "      display: none;\n",
              "      fill: #1967D2;\n",
              "      height: 32px;\n",
              "      padding: 0 0 0 0;\n",
              "      width: 32px;\n",
              "    }\n",
              "\n",
              "    .colab-df-convert:hover {\n",
              "      background-color: #E2EBFA;\n",
              "      box-shadow: 0px 1px 2px rgba(60, 64, 67, 0.3), 0px 1px 3px 1px rgba(60, 64, 67, 0.15);\n",
              "      fill: #174EA6;\n",
              "    }\n",
              "\n",
              "    [theme=dark] .colab-df-convert {\n",
              "      background-color: #3B4455;\n",
              "      fill: #D2E3FC;\n",
              "    }\n",
              "\n",
              "    [theme=dark] .colab-df-convert:hover {\n",
              "      background-color: #434B5C;\n",
              "      box-shadow: 0px 1px 3px 1px rgba(0, 0, 0, 0.15);\n",
              "      filter: drop-shadow(0px 1px 2px rgba(0, 0, 0, 0.3));\n",
              "      fill: #FFFFFF;\n",
              "    }\n",
              "  </style>\n",
              "\n",
              "      <script>\n",
              "        const buttonEl =\n",
              "          document.querySelector('#df-b5a0f6ad-de67-4aca-8a71-92ccee80ecf2 button.colab-df-convert');\n",
              "        buttonEl.style.display =\n",
              "          google.colab.kernel.accessAllowed ? 'block' : 'none';\n",
              "\n",
              "        async function convertToInteractive(key) {\n",
              "          const element = document.querySelector('#df-b5a0f6ad-de67-4aca-8a71-92ccee80ecf2');\n",
              "          const dataTable =\n",
              "            await google.colab.kernel.invokeFunction('convertToInteractive',\n",
              "                                                     [key], {});\n",
              "          if (!dataTable) return;\n",
              "\n",
              "          const docLinkHtml = 'Like what you see? Visit the ' +\n",
              "            '<a target=\"_blank\" href=https://colab.research.google.com/notebooks/data_table.ipynb>data table notebook</a>'\n",
              "            + ' to learn more about interactive tables.';\n",
              "          element.innerHTML = '';\n",
              "          dataTable['output_type'] = 'display_data';\n",
              "          await google.colab.output.renderOutput(dataTable, element);\n",
              "          const docLink = document.createElement('div');\n",
              "          docLink.innerHTML = docLinkHtml;\n",
              "          element.appendChild(docLink);\n",
              "        }\n",
              "      </script>\n",
              "    </div>\n",
              "  </div>\n",
              "  "
            ]
          },
          "metadata": {},
          "execution_count": 1
        }
      ],
      "source": [
        "# Necessary imports\n",
        "import numpy as np\n",
        "import pandas as pd\n",
        "import matplotlib.pyplot as plt\n",
        "import seaborn as sb\n",
        "%matplotlib inline\n",
        "\n",
        "# Read the csv file, and check its top 10 rows\n",
        "pokemon = pd.read_csv('/content/drive/MyDrive/Colab Notebooks/Intro to AI Programming /Matplotlib/pokemon.csv')\n",
        "print(pokemon.shape)\n",
        "pokemon.head(10)"
      ]
    },
    {
      "cell_type": "code",
      "source": [
        "#Selecting the first seaborn color for the plot\n",
        "base_color = sb.color_palette()[0]\n",
        "sb.countplot(data=pokemon, x='generation_id',color=base_color, order=gen_order)\n",
        "\n",
        "freq = pokemon['generation_id'].value_counts()\n",
        "gen_order = freq.index"
      ],
      "metadata": {
        "colab": {
          "base_uri": "https://localhost:8080/",
          "height": 280
        },
        "id": "IN0DRjpEwteX",
        "outputId": "70011e4b-da5b-4e0c-925e-adecc660e39b"
      },
      "execution_count": null,
      "outputs": [
        {
          "output_type": "display_data",
          "data": {
            "text/plain": [
              "<Figure size 432x288 with 1 Axes>"
            ],
            "image/png": "[encoded data removed]"
          },
          "metadata": {
            "needs_background": "light"
          }
        }
      ]
    },
    {
      "cell_type": "code",
      "source": [
        "# Return the Series having unique values\n",
        "x = pokemon['generation_id'].unique()\n",
        "\n",
        "# Return the Series having frequency count of each unique value\n",
        "y = pokemon['generation_id'].value_counts(sort=False)\n",
        "\n",
        "plt.bar(x, y)\n",
        "\n",
        "# Labeling the axes\n",
        "plt.xlabel('generation_id')\n",
        "plt.ylabel('count')\n",
        "\n",
        "# Dsiplay the plot\n",
        "plt.show()"
      ],
      "metadata": {
        "colab": {
          "base_uri": "https://localhost:8080/",
          "height": 280
        },
        "id": "Nag_B6DNw_63",
        "outputId": "f4127e1a-4eaf-4f0e-ad3a-30f7732469a3"
      },
      "execution_count": null,
      "outputs": [
        {
          "output_type": "display_data",
          "data": {
            "text/plain": [
              "<Figure size 432x288 with 1 Axes>"
            ],
            "image/png": "[encoded data removed]"
          },
          "metadata": {
            "needs_background": "light"
          }
        }
      ]
    },
    {
      "cell_type": "code",
      "source": [
        "sb.countplot(data=pokemon, x='type_1', color=base_color)\n",
        "plt.xticks(rotation=90);"
      ],
      "metadata": {
        "colab": {
          "base_uri": "https://localhost:8080/",
          "height": 309
        },
        "id": "QNcsSe1vxDg9",
        "outputId": "bd7b3a91-2df9-4487-b4fa-3a82ca5e77f3"
      },
      "execution_count": null,
      "outputs": [
        {
          "output_type": "display_data",
          "data": {
            "text/plain": [
              "<Figure size 432x288 with 1 Axes>"
            ],
            "image/png": "[encoded data removed]"
          },
          "metadata": {
            "needs_background": "light"
          }
        }
      ]
    },
    {
      "cell_type": "code",
      "source": [
        "order=pokemon['type_1'].value_counts().index\n",
        "sb.countplot(data=pokemon, y='type_1', color=base_color, order=order);"
      ],
      "metadata": {
        "colab": {
          "base_uri": "https://localhost:8080/",
          "height": 279
        },
        "id": "r0WyEPB5zjFv",
        "outputId": "b59af0cb-a77f-4620-abc7-8c86ba3d9bb5"
      },
      "execution_count": null,
      "outputs": [
        {
          "output_type": "display_data",
          "data": {
            "text/plain": [
              "<Figure size 432x288 with 1 Axes>"
            ],
            "image/png": "[encoded data removed]"
          },
          "metadata": {
            "needs_background": "light"
          }
        }
      ]
    },
    {
      "cell_type": "code",
      "source": [
        "# Resize the chart, and have two plots side-by-side\n",
        "# set a larger figure size for subplots\n",
        "plt.figure(figsize = [20, 5]) \n",
        "\n",
        "# histogram on left, example of too-large bin size\n",
        "# 1 row, 2 cols, subplot 1\n",
        "plt.subplot(1, 2, 1) \n",
        "bins = np.arange(0, pokemon['speed'].max()+4, 4)\n",
        "plt.hist(data = pokemon, x = 'speed', bins = bins);\n",
        "\n",
        "# histogram on right, example of too-small bin size\n",
        "#plt.subplot(1, 2, 2) # 1 row, 2 cols, subplot 2\n",
        "bins = np.arange(0, pokemon['speed'].max()+1/4, 1/4)\n",
        "plt.hist(data = pokemon, x = 'speed', bins = bins);"
      ],
      "metadata": {
        "id": "M08NDg9_0Oev",
        "colab": {
          "base_uri": "https://localhost:8080/",
          "height": 320
        },
        "outputId": "be87f647-0ce8-4315-be09-d1985bf321cf"
      },
      "execution_count": null,
      "outputs": [
        {
          "output_type": "display_data",
          "data": {
            "text/plain": [
              "<Figure size 1440x360 with 1 Axes>"
            ],
            "image/png": "[encoded data removed]"
          },
          "metadata": {
            "needs_background": "light"
          }
        }
      ]
    },
    {
      "cell_type": "code",
      "source": [
        "import numpy as np\n",
        "import pandas as pd\n",
        "import matplotlib.pyplot as plt\n",
        "import seaborn as sb\n",
        "%matplotlib inline\n",
        "\n",
        "die_rolls = pd.read_csv('/content/drive/MyDrive/Colab Notebooks/Intro to AI Programming /Matplotlib/die-rolls.csv')\n",
        "\n",
        "# A fair dice has six-faces having numbers [1-6]. \n",
        "# There are 100 dices, and two trials were conducted.\n",
        "# In each trial, all 100 dices were rolled down, and the outcome [1-6] was recorded.\n",
        "# The `Sum` column represents the sum of the outcomes in the two trials, for each given dice. \n",
        "die_rolls.head(10)"
      ],
      "metadata": {
        "colab": {
          "base_uri": "https://localhost:8080/",
          "height": 363
        },
        "id": "ODm7wXtrFswX",
        "outputId": "15d622c6-dc4b-45ef-ffd4-2856f657b1f4"
      },
      "execution_count": null,
      "outputs": [
        {
          "output_type": "execute_result",
          "data": {
            "text/plain": [
              "   Dice  Trial 1  Trial 2  Sum\n",
              "0     1        4        1    5\n",
              "1     2        4        5    9\n",
              "2     3        2        6    8\n",
              "3     4        6        3    9\n",
              "4     5        3        6    9\n",
              "5     6        6        6   12\n",
              "6     7        3        3    6\n",
              "7     8        3        2    5\n",
              "8     9        2        6    8\n",
              "9    10        6        6   12"
            ],
            "text/html": [
              "\n",
              "  <div id=\"df-a7207140-d35b-48dc-90d1-20fa85495cac\">\n",
              "    <div class=\"colab-df-container\">\n",
              "      <div>\n",
              "<style scoped>\n",
              "    .dataframe tbody tr th:only-of-type {\n",
              "        vertical-align: middle;\n",
              "    }\n",
              "\n",
              "    .dataframe tbody tr th {\n",
              "        vertical-align: top;\n",
              "    }\n",
              "\n",
              "    .dataframe thead th {\n",
              "        text-align: right;\n",
              "    }\n",
              "</style>\n",
              "<table border=\"1\" class=\"dataframe\">\n",
              "  <thead>\n",
              "    <tr style=\"text-align: right;\">\n",
              "      <th></th>\n",
              "      <th>Dice</th>\n",
              "      <th>Trial 1</th>\n",
              "      <th>Trial 2</th>\n",
              "      <th>Sum</th>\n",
              "    </tr>\n",
              "  </thead>\n",
              "  <tbody>\n",
              "    <tr>\n",
              "      <th>0</th>\n",
              "      <td>1</td>\n",
              "      <td>4</td>\n",
              "      <td>1</td>\n",
              "      <td>5</td>\n",
              "    </tr>\n",
              "    <tr>\n",
              "      <th>1</th>\n",
              "      <td>2</td>\n",
              "      <td>4</td>\n",
              "      <td>5</td>\n",
              "      <td>9</td>\n",
              "    </tr>\n",
              "    <tr>\n",
              "      <th>2</th>\n",
              "      <td>3</td>\n",
              "      <td>2</td>\n",
              "      <td>6</td>\n",
              "      <td>8</td>\n",
              "    </tr>\n",
              "    <tr>\n",
              "      <th>3</th>\n",
              "      <td>4</td>\n",
              "      <td>6</td>\n",
              "      <td>3</td>\n",
              "      <td>9</td>\n",
              "    </tr>\n",
              "    <tr>\n",
              "      <th>4</th>\n",
              "      <td>5</td>\n",
              "      <td>3</td>\n",
              "      <td>6</td>\n",
              "      <td>9</td>\n",
              "    </tr>\n",
              "    <tr>\n",
              "      <th>5</th>\n",
              "      <td>6</td>\n",
              "      <td>6</td>\n",
              "      <td>6</td>\n",
              "      <td>12</td>\n",
              "    </tr>\n",
              "    <tr>\n",
              "      <th>6</th>\n",
              "      <td>7</td>\n",
              "      <td>3</td>\n",
              "      <td>3</td>\n",
              "      <td>6</td>\n",
              "    </tr>\n",
              "    <tr>\n",
              "      <th>7</th>\n",
              "      <td>8</td>\n",
              "      <td>3</td>\n",
              "      <td>2</td>\n",
              "      <td>5</td>\n",
              "    </tr>\n",
              "    <tr>\n",
              "      <th>8</th>\n",
              "      <td>9</td>\n",
              "      <td>2</td>\n",
              "      <td>6</td>\n",
              "      <td>8</td>\n",
              "    </tr>\n",
              "    <tr>\n",
              "      <th>9</th>\n",
              "      <td>10</td>\n",
              "      <td>6</td>\n",
              "      <td>6</td>\n",
              "      <td>12</td>\n",
              "    </tr>\n",
              "  </tbody>\n",
              "</table>\n",
              "</div>\n",
              "      <button class=\"colab-df-convert\" onclick=\"convertToInteractive('df-a7207140-d35b-48dc-90d1-20fa85495cac')\"\n",
              "              title=\"Convert this dataframe to an interactive table.\"\n",
              "              style=\"display:none;\">\n",
              "        \n",
              "  <svg xmlns=\"http://www.w3.org/2000/svg\" height=\"24px\"viewBox=\"0 0 24 24\"\n",
              "       width=\"24px\">\n",
              "    <path d=\"M0 0h24v24H0V0z\" fill=\"none\"/>\n",
              "    <path d=\"M18.56 5.44l.94 2.06.94-2.06 2.06-.94-2.06-.94-.94-2.06-.94 2.06-2.06.94zm-11 1L8.5 8.5l.94-2.06 2.06-.94-2.06-.94L8.5 2.5l-.94 2.06-2.06.94zm10 10l.94 2.06.94-2.06 2.06-.94-2.06-.94-.94-2.06-.94 2.06-2.06.94z\"/><path d=\"M17.41 7.96l-1.37-1.37c-.4-.4-.92-.59-1.43-.59-.52 0-1.04.2-1.43.59L10.3 9.45l-7.72 7.72c-.78.78-.78 2.05 0 2.83L4 21.41c.39.39.9.59 1.41.59.51 0 1.02-.2 1.41-.59l7.78-7.78 2.81-2.81c.8-.78.8-2.07 0-2.86zM5.41 20L4 18.59l7.72-7.72 1.47 1.35L5.41 20z\"/>\n",
              "  </svg>\n",
              "      </button>\n",
              "      \n",
              "  <style>\n",
              "    .colab-df-container {\n",
              "      display:flex;\n",
              "      flex-wrap:wrap;\n",
              "      gap: 12px;\n",
              "    }\n",
              "\n",
              "    .colab-df-convert {\n",
              "      background-color: #E8F0FE;\n",
              "      border: none;\n",
              "      border-radius: 50%;\n",
              "      cursor: pointer;\n",
              "      display: none;\n",
              "      fill: #1967D2;\n",
              "      height: 32px;\n",
              "      padding: 0 0 0 0;\n",
              "      width: 32px;\n",
              "    }\n",
              "\n",
              "    .colab-df-convert:hover {\n",
              "      background-color: #E2EBFA;\n",
              "      box-shadow: 0px 1px 2px rgba(60, 64, 67, 0.3), 0px 1px 3px 1px rgba(60, 64, 67, 0.15);\n",
              "      fill: #174EA6;\n",
              "    }\n",
              "\n",
              "    [theme=dark] .colab-df-convert {\n",
              "      background-color: #3B4455;\n",
              "      fill: #D2E3FC;\n",
              "    }\n",
              "\n",
              "    [theme=dark] .colab-df-convert:hover {\n",
              "      background-color: #434B5C;\n",
              "      box-shadow: 0px 1px 3px 1px rgba(0, 0, 0, 0.15);\n",
              "      filter: drop-shadow(0px 1px 2px rgba(0, 0, 0, 0.3));\n",
              "      fill: #FFFFFF;\n",
              "    }\n",
              "  </style>\n",
              "\n",
              "      <script>\n",
              "        const buttonEl =\n",
              "          document.querySelector('#df-a7207140-d35b-48dc-90d1-20fa85495cac button.colab-df-convert');\n",
              "        buttonEl.style.display =\n",
              "          google.colab.kernel.accessAllowed ? 'block' : 'none';\n",
              "\n",
              "        async function convertToInteractive(key) {\n",
              "          const element = document.querySelector('#df-a7207140-d35b-48dc-90d1-20fa85495cac');\n",
              "          const dataTable =\n",
              "            await google.colab.kernel.invokeFunction('convertToInteractive',\n",
              "                                                     [key], {});\n",
              "          if (!dataTable) return;\n",
              "\n",
              "          const docLinkHtml = 'Like what you see? Visit the ' +\n",
              "            '<a target=\"_blank\" href=https://colab.research.google.com/notebooks/data_table.ipynb>data table notebook</a>'\n",
              "            + ' to learn more about interactive tables.';\n",
              "          element.innerHTML = '';\n",
              "          dataTable['output_type'] = 'display_data';\n",
              "          await google.colab.output.renderOutput(dataTable, element);\n",
              "          const docLink = document.createElement('div');\n",
              "          docLink.innerHTML = docLinkHtml;\n",
              "          element.appendChild(docLink);\n",
              "        }\n",
              "      </script>\n",
              "    </div>\n",
              "  </div>\n",
              "  "
            ]
          },
          "metadata": {},
          "execution_count": 4
        }
      ]
    },
    {
      "cell_type": "code",
      "source": [
        "plt.figure(figsize = [20, 5])\n",
        "\n",
        "# Histogram on the left, bin edges on integers\n",
        "plt.subplot(1, 2, 1)\n",
        "bin_edges = np.arange(2, 12+1.1, 1) # note `+1.1`, see below\n",
        "plt.hist(data=die_rolls, x='Sum', bins = bin_edges);\n",
        "plt.xticks(np.arange(2, 12+1, 1));\n",
        "\n",
        "\n",
        "# Histogram on the right, bin edges between integers\n",
        "plt.subplot(1, 2, 2)\n",
        "bin_edges = np.arange(1.5, 12.5+1, 1)\n",
        "plt.hist(data=die_rolls, x='Sum', bins = bin_edges);\n",
        "plt.xticks(np.arange(2, 12+1, 1));"
      ],
      "metadata": {
        "colab": {
          "base_uri": "https://localhost:8080/",
          "height": 320
        },
        "id": "8GNFMoAHFxgm",
        "outputId": "bb35adad-8eef-499d-d21a-134fe6fd2568"
      },
      "execution_count": null,
      "outputs": [
        {
          "output_type": "display_data",
          "data": {
            "text/plain": [
              "<Figure size 1440x360 with 2 Axes>"
            ],
            "image/png": "[encoded data removed]"
          },
          "metadata": {
            "needs_background": "light"
          }
        }
      ]
    },
    {
      "cell_type": "code",
      "source": [
        "bin_edges = np.arange(1.5, 12.5+1, 1)\n",
        "plt.hist(data=die_rolls, x='Sum', bins = bin_edges, rwidth = 0.7)\n",
        "plt.xticks(np.arange(2, 12+1, 1));"
      ],
      "metadata": {
        "id": "2NtcYcj2F674",
        "outputId": "6d263f5a-5c93-45d9-a90f-b5cf9b426921",
        "colab": {
          "base_uri": "https://localhost:8080/",
          "height": 265
        }
      },
      "execution_count": null,
      "outputs": [
        {
          "output_type": "display_data",
          "data": {
            "text/plain": [
              "<Figure size 432x288 with 1 Axes>"
            ],
            "image/png": "[encoded data removed]"
          },
          "metadata": {
            "needs_background": "light"
          }
        }
      ]
    },
    {
      "cell_type": "code",
      "source": [
        "'''xlim accepts a list or tuple to set the higher and lower limits of the histogram.\n",
        "This is to avoind outliers.'''\n",
        "\n",
        "# Load the data, and see the height column\n",
        "pokemon.head(10)\n",
        "\n",
        "# Get the ticks for bins between [0-15], at an interval of 0.5\n",
        "bins = np.arange(0, pokemon['height'].max()+0.5, 0.5)\n",
        "\n",
        "# Plot the histogram for the height column\n",
        "plt.hist(data=pokemon, x='height', bins=bins)\n",
        "\n",
        "plt.xlim((0,6));"
      ],
      "metadata": {
        "colab": {
          "base_uri": "https://localhost:8080/",
          "height": 265
        },
        "id": "Rnvep3glxxbn",
        "outputId": "319c2b9a-4cac-475f-b40a-8f783f9c9dfe"
      },
      "execution_count": null,
      "outputs": [
        {
          "output_type": "display_data",
          "data": {
            "text/plain": [
              "<Figure size 432x288 with 1 Axes>"
            ],
            "image/png": "[encoded data removed]"
          },
          "metadata": {
            "needs_background": "light"
          }
        }
      ]
    },
    {
      "cell_type": "code",
      "source": [
        "'''plotting the 2 histograms side by side.'''\n",
        "# Define the figure size\n",
        "plt.figure(figsize = [20, 5])\n",
        "\n",
        "# histogram on left: full data\n",
        "plt.subplot(1, 2, 1)\n",
        "bin_edges = np.arange(0, pokemon['height'].max()+0.5, 0.5)\n",
        "plt.hist(data=pokemon, x='height', bins = bin_edges)\n",
        "\n",
        "# histogram on right: focus in on bulk of data < 6\n",
        "plt.subplot(1, 2, 2)\n",
        "bin_edges = np.arange(0, pokemon['height'].max()+0.2, 0.2)\n",
        "plt.hist(data=pokemon, x='height', bins = bin_edges)\n",
        "plt.xlim(0, 6); # could also be called as plt.xlim((0, 6))"
      ],
      "metadata": {
        "colab": {
          "base_uri": "https://localhost:8080/",
          "height": 320
        },
        "id": "NMZ34gSNyneK",
        "outputId": "9bd9d59e-222f-4219-fc8e-539c1a0fe4e1"
      },
      "execution_count": null,
      "outputs": [
        {
          "output_type": "display_data",
          "data": {
            "text/plain": [
              "<Figure size 1440x360 with 2 Axes>"
            ],
            "image/png": "[encoded data removed]"
          },
          "metadata": {
            "needs_background": "light"
          }
        }
      ]
    },
    {
      "cell_type": "code",
      "source": [
        "'''Scaling a variable. This can be done using xscale.Logs can be used because\n",
        "each next value is a multiple of the previous.'''\n",
        "\n",
        "pokemon['weight'].describe()\n",
        "\n",
        "#Scaling between the min and max values(from describe())\n",
        "bins=10**np.arange(-1, 3+0.1, 0.1)\n",
        "ticks=[0.1, 0.3, 1, 3, 10, 30, 100, 300, 1000]\n",
        "labels=[\"{}\".format(v) for v in ticks]\n",
        "plt.hist(data=pokemon, x='weight', bins=bins)\n",
        "plt.xscale('log')\n",
        "plt.xticks(ticks, labels);"
      ],
      "metadata": {
        "colab": {
          "base_uri": "https://localhost:8080/",
          "height": 265
        },
        "id": "5TpCBLUD0VkL",
        "outputId": "242f36ba-bcec-407b-c4a7-366fc6767990"
      },
      "execution_count": null,
      "outputs": [
        {
          "output_type": "display_data",
          "data": {
            "text/plain": [
              "<Figure size 432x288 with 1 Axes>"
            ],
            "image/png": "[encoded data removed]"
          },
          "metadata": {
            "needs_background": "light"
          }
        }
      ]
    },
    {
      "cell_type": "code",
      "source": [
        "'''Creating a custom function not available on xscale'''\n",
        "\n",
        "def sqrt_trans(x, inverse = False):\n",
        "    \"\"\" transformation helper function \"\"\"\n",
        "    if not inverse:\n",
        "        return np.sqrt(x)\n",
        "    else:\n",
        "        return x ** 2\n",
        "\n",
        "# Bin resizing, to transform the x-axis    \n",
        "bin_edges = np.arange(0, sqrt_trans(pokemon['weight'].max())+1, 1)\n",
        "\n",
        "# Plot the scaled data\n",
        "plt.hist(pokemon['weight'].apply(sqrt_trans), bins = bin_edges)\n",
        "\n",
        "# Identify the tick-locations\n",
        "tick_locs = np.arange(0, sqrt_trans(pokemon['weight'].max())+10, 10)\n",
        "\n",
        "# Apply x-ticks\n",
        "plt.xticks(tick_locs, sqrt_trans(tick_locs, inverse = True).astype(int));"
      ],
      "metadata": {
        "colab": {
          "base_uri": "https://localhost:8080/",
          "height": 265
        },
        "id": "PlFuvBH62gZB",
        "outputId": "3c056a98-e68f-4650-f1fa-7447ea1b07ab"
      },
      "execution_count": null,
      "outputs": [
        {
          "output_type": "display_data",
          "data": {
            "text/plain": [
              "<Figure size 432x288 with 1 Axes>"
            ],
            "image/png": "[encoded data removed]"
          },
          "metadata": {
            "needs_background": "light"
          }
        }
      ]
    },
    {
      "cell_type": "markdown",
      "source": [
        "### Using KDE and Rugplot()"
      ],
      "metadata": {
        "id": "AvqChJa07sKY"
      }
    },
    {
      "cell_type": "code",
      "source": [
        "data = [0.0, 3.0, 4.5, 8.0]\n",
        "plt.figure(figsize = [12, 5])\n",
        "\n",
        "# left plot: showing kde lumps with the default settings\n",
        "plt.subplot(1, 3, 1)\n",
        "sb.distplot(data, hist = False, rug = True, rug_kws = {'color' : 'r'})\n",
        "\n",
        "# central plot: kde with narrow bandwidth to show individual probability lumps\n",
        "plt.subplot(1, 3, 2)\n",
        "sb.distplot(data, hist = False, rug = True, rug_kws = {'color' : 'r'},\n",
        "            kde_kws = {'bw' : 1})\n",
        "\n",
        "# right plot: choosing a different, triangular kernel function (lump shape)\n",
        "plt.subplot(1, 3, 3)\n",
        "sb.distplot(data, hist = False, rug = True, rug_kws = {'color' : 'r'},\n",
        "            kde_kws = {'bw' : 1.5, 'kernel' : 'tri'})"
      ],
      "metadata": {
        "colab": {
          "base_uri": "https://localhost:8080/",
          "height": 686
        },
        "id": "LxvvLmST7vxU",
        "outputId": "d049837f-7d91-48ad-e2a5-c484cdd66689"
      },
      "execution_count": null,
      "outputs": [
        {
          "output_type": "stream",
          "name": "stderr",
          "text": [
            "/usr/local/lib/python3.7/dist-packages/seaborn/distributions.py:2619: FutureWarning: `distplot` is a deprecated function and will be removed in a future version. Please adapt your code to use either `displot` (a figure-level function with similar flexibility) or `kdeplot` (an axes-level function for kernel density plots).\n",
            "  warnings.warn(msg, FutureWarning)\n",
            "/usr/local/lib/python3.7/dist-packages/seaborn/distributions.py:2103: FutureWarning: The `axis` variable is no longer used and will be removed. Instead, assign variables directly to `x` or `y`.\n",
            "  warnings.warn(msg, FutureWarning)\n",
            "/usr/local/lib/python3.7/dist-packages/seaborn/distributions.py:2619: FutureWarning: `distplot` is a deprecated function and will be removed in a future version. Please adapt your code to use either `displot` (a figure-level function with similar flexibility) or `kdeplot` (an axes-level function for kernel density plots).\n",
            "  warnings.warn(msg, FutureWarning)\n",
            "/usr/local/lib/python3.7/dist-packages/seaborn/distributions.py:1699: FutureWarning: The `bw` parameter is deprecated in favor of `bw_method` and `bw_adjust`. Using 1 for `bw_method`, but please see the docs for the new parameters and update your code.\n",
            "  warnings.warn(msg, FutureWarning)\n",
            "/usr/local/lib/python3.7/dist-packages/seaborn/distributions.py:2103: FutureWarning: The `axis` variable is no longer used and will be removed. Instead, assign variables directly to `x` or `y`.\n",
            "  warnings.warn(msg, FutureWarning)\n",
            "/usr/local/lib/python3.7/dist-packages/seaborn/distributions.py:2619: FutureWarning: `distplot` is a deprecated function and will be removed in a future version. Please adapt your code to use either `displot` (a figure-level function with similar flexibility) or `kdeplot` (an axes-level function for kernel density plots).\n",
            "  warnings.warn(msg, FutureWarning)\n",
            "/usr/local/lib/python3.7/dist-packages/seaborn/distributions.py:1699: FutureWarning: The `bw` parameter is deprecated in favor of `bw_method` and `bw_adjust`. Using 1.5 for `bw_method`, but please see the docs for the new parameters and update your code.\n",
            "  warnings.warn(msg, FutureWarning)\n",
            "/usr/local/lib/python3.7/dist-packages/seaborn/distributions.py:1708: UserWarning: Support for alternate kernels has been removed. Using Gaussian kernel.\n",
            "  warnings.warn(msg, UserWarning)\n",
            "/usr/local/lib/python3.7/dist-packages/seaborn/distributions.py:2103: FutureWarning: The `axis` variable is no longer used and will be removed. Instead, assign variables directly to `x` or `y`.\n",
            "  warnings.warn(msg, FutureWarning)\n"
          ]
        },
        {
          "output_type": "execute_result",
          "data": {
            "text/plain": [
              "<matplotlib.axes._subplots.AxesSubplot at 0x7f46d42ee790>"
            ]
          },
          "metadata": {},
          "execution_count": 40
        },
        {
          "output_type": "display_data",
          "data": {
            "text/plain": [
              "<Figure size 864x360 with 3 Axes>"
            ],
            "image/png": "[encoded data removed]"
          },
          "metadata": {
            "needs_background": "light"
          }
        }
      ]
    },
    {
      "cell_type": "code",
      "source": [],
      "metadata": {
        "id": "T1aAvuQc7yQ9"
      },
      "execution_count": null,
      "outputs": []
    }
  ]
}