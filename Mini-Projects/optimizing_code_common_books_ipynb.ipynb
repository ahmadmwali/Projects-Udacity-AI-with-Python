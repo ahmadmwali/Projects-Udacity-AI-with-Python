{
  "cells": [
    {
      "cell_type": "markdown",
      "metadata": {
        "id": "FSQ_Og1Qwafo"
      },
      "source": [
        "# Optimizing Code: Common Books\n",
        "Here's the code your coworker wrote to find the common book ids in `books_published_last_two_years.txt` and `all_coding_books.txt` to obtain a list of recent coding books."
      ]
    },
    {
      "cell_type": "code",
      "execution_count": 1,
      "metadata": {
        "id": "4PQdly9Zwafr"
      },
      "outputs": [],
      "source": [
        "import time\n",
        "import pandas as pd\n",
        "import numpy as np"
      ]
    },
    {
      "cell_type": "code",
      "execution_count": 4,
      "metadata": {
        "id": "8NIba6Nfwafs"
      },
      "outputs": [],
      "source": [
        "with open('books-published-last-two-years.txt') as f:\n",
        "    recent_books = f.read().split('\\n')\n",
        "    \n",
        "with open('all-coding-books.txt') as f:\n",
        "    coding_books = f.read().split('\\n')"
      ]
    },
    {
      "cell_type": "code",
      "execution_count": 5,
      "metadata": {
        "colab": {
          "base_uri": "https://localhost:8080/"
        },
        "id": "LPoH6IM_waft",
        "outputId": "91d698b3-0ce1-4cd5-8a91-3237d8fa9ca9"
      },
      "outputs": [
        {
          "output_type": "stream",
          "name": "stdout",
          "text": [
            "96\n",
            "Duration: 14.952794075012207 seconds\n"
          ]
        }
      ],
      "source": [
        "start = time.time()\n",
        "recent_coding_books = []\n",
        "\n",
        "for book in recent_books:\n",
        "    if book in coding_books:\n",
        "        recent_coding_books.append(book)\n",
        "\n",
        "print(len(recent_coding_books))\n",
        "print('Duration: {} seconds'.format(time.time() - start))"
      ]
    },
    {
      "cell_type": "markdown",
      "metadata": {
        "id": "Xl-jLgBJwaft"
      },
      "source": [
        "### Tip #1: Use vector operations over loops when possible\n",
        "\n",
        "Use numpy's `intersect1d` method to get the intersection of the `recent_books` and `coding_books` arrays."
      ]
    },
    {
      "cell_type": "code",
      "execution_count": 7,
      "metadata": {
        "colab": {
          "base_uri": "https://localhost:8080/"
        },
        "id": "Nz0r4Wuvwafu",
        "outputId": "ce892baf-f826-44e7-d0e3-9c42c8e652f2"
      },
      "outputs": [
        {
          "output_type": "stream",
          "name": "stdout",
          "text": [
            "96\n",
            "Duration: 0.023883581161499023 seconds\n"
          ]
        }
      ],
      "source": [
        "start = time.time()\n",
        "recent_coding_books = np.intersect1d(list(recent_books), list(recent_coding_books))\n",
        "print(len(recent_coding_books))\n",
        "print('Duration: {} seconds'.format(time.time() - start))"
      ]
    },
    {
      "cell_type": "markdown",
      "metadata": {
        "id": "9XflnFqZwafu"
      },
      "source": [
        "### Tip #2: Know your data structures and which methods are faster\n",
        "Use the set's `intersection` method to get the common elements in `recent_books` and `coding_books`."
      ]
    },
    {
      "cell_type": "code",
      "execution_count": 8,
      "metadata": {
        "colab": {
          "base_uri": "https://localhost:8080/"
        },
        "id": "QnYQvtjcwafu",
        "outputId": "fdd72361-c970-4a01-b8e2-90a4b728e2f6"
      },
      "outputs": [
        {
          "output_type": "stream",
          "name": "stdout",
          "text": [
            "0\n",
            "Duration: 0.008766889572143555 seconds\n"
          ]
        }
      ],
      "source": [
        "start = time.time()\n",
        "recent_coding_books = np.intersect1d(set(recent_books), set(recent_coding_books))\n",
        "print(len(recent_coding_books))\n",
        "print('Duration: {} seconds'.format(time.time() - start))"
      ]
    },
    {
      "cell_type": "code",
      "execution_count": null,
      "metadata": {
        "id": "Il4zyrhkwafv"
      },
      "outputs": [],
      "source": [
        ""
      ]
    }
  ],
  "metadata": {
    "kernelspec": {
      "display_name": "Python 3",
      "language": "python",
      "name": "python3"
    },
    "language_info": {
      "codemirror_mode": {
        "name": "ipython",
        "version": 3
      },
      "file_extension": ".py",
      "mimetype": "text/x-python",
      "name": "python",
      "nbconvert_exporter": "python",
      "pygments_lexer": "ipython3",
      "version": "3.6.3"
    },
    "colab": {
      "name": "optimizing-code-common-books.ipynb.txt",
      "provenance": []
    }
  },
  "nbformat": 4,
  "nbformat_minor": 0
}